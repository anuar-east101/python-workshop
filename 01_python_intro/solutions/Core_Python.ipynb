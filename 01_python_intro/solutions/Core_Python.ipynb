{
 "cells": [
  {
   "cell_type": "markdown",
   "metadata": {
    "id": "NHj7mVm0n0KT"
   },
   "source": [
    "# Introduction to Python\n",
    "\n",
    "Python is a general-purpose language that is easy to learn but yet powerful enough to be used for complex scientific computations.\n",
    "\n",
    "In this notebook, we will review some of the basic concepts in Python. If you are familiar with other programming language(s) before, the concepts covered here are similar except the Python syntax is slighly different.\n",
    "\n",
    "If you have not used any programming languages before, these concepts may be new but rest assured that they are relatively easy to follow!"
   ]
  },
  {
   "cell_type": "markdown",
   "metadata": {
    "id": "321ynjFVbJyT"
   },
   "source": [
    "# Core Python I"
   ]
  },
  {
   "cell_type": "markdown",
   "metadata": {
    "id": "KiXLNj1rbVRp"
   },
   "source": [
    "## Strings\n",
    "\n",
    "String is one of the objects in Python. To define a string, we use single quotation marks, or double quotation marks, e.g.: `\"Hello\"` or `'Hello'`\n",
    "\n",
    "To print out a string, we use `print()`:"
   ]
  },
  {
   "cell_type": "code",
   "execution_count": 1,
   "metadata": {
    "colab": {
     "base_uri": "https://localhost:8080/"
    },
    "executionInfo": {
     "elapsed": 532,
     "status": "ok",
     "timestamp": 1633579693228,
     "user": {
      "displayName": "Anuar H.",
      "photoUrl": "https://lh3.googleusercontent.com/a/default-user=s64",
      "userId": "10764280164805571617"
     },
     "user_tz": -480
    },
    "id": "MLWbHyHeb-qb",
    "outputId": "bba5fd65-52f4-4210-fdc3-b234c63a19f4"
   },
   "outputs": [
    {
     "name": "stdout",
     "output_type": "stream",
     "text": [
      "Hello world\n"
     ]
    }
   ],
   "source": [
    "print('Hello world')"
   ]
  },
  {
   "cell_type": "markdown",
   "metadata": {
    "id": "u_AJh1_qcfPS"
   },
   "source": [
    "We can assign a string to a variable name using the equal sign `=`:"
   ]
  },
  {
   "cell_type": "code",
   "execution_count": 2,
   "metadata": {
    "colab": {
     "base_uri": "https://localhost:8080/"
    },
    "executionInfo": {
     "elapsed": 5,
     "status": "ok",
     "timestamp": 1633579693229,
     "user": {
      "displayName": "Anuar H.",
      "photoUrl": "https://lh3.googleusercontent.com/a/default-user=s64",
      "userId": "10764280164805571617"
     },
     "user_tz": -480
    },
    "id": "5EpQxGNucq0J",
    "outputId": "0b2b894b-ebfa-49fd-afaf-36ac0e774679"
   },
   "outputs": [
    {
     "name": "stdout",
     "output_type": "stream",
     "text": [
      "Hello\n"
     ]
    }
   ],
   "source": [
    "greeting = \"Hello\"\n",
    "print(greeting)"
   ]
  },
  {
   "cell_type": "markdown",
   "metadata": {
    "id": "_tc10KGM32WE"
   },
   "source": [
    "In Jupyter notebook, we can simply write the variable name, and Jupyter will try to show the values associated with that variable. So in some cases, we don't have to use `print()`."
   ]
  },
  {
   "cell_type": "code",
   "execution_count": 3,
   "metadata": {
    "colab": {
     "base_uri": "https://localhost:8080/",
     "height": 35
    },
    "executionInfo": {
     "elapsed": 570,
     "status": "ok",
     "timestamp": 1633579693796,
     "user": {
      "displayName": "Anuar H.",
      "photoUrl": "https://lh3.googleusercontent.com/a/default-user=s64",
      "userId": "10764280164805571617"
     },
     "user_tz": -480
    },
    "id": "pvCqwiIf4Qfv",
    "outputId": "3b564110-86ee-490d-b292-73d81f85cc0f"
   },
   "outputs": [
    {
     "data": {
      "text/plain": [
       "'Hello'"
      ]
     },
     "execution_count": 3,
     "metadata": {},
     "output_type": "execute_result"
    }
   ],
   "source": [
    "greeting"
   ]
  },
  {
   "cell_type": "markdown",
   "metadata": {
    "id": "0FLmXlmFcyqp"
   },
   "source": [
    "Note that this will only work in Jupyter.\n",
    "\n",
    "We can check the type of the Python object by using `type()`:"
   ]
  },
  {
   "cell_type": "code",
   "execution_count": 4,
   "metadata": {
    "colab": {
     "base_uri": "https://localhost:8080/"
    },
    "executionInfo": {
     "elapsed": 69,
     "status": "ok",
     "timestamp": 1633579693797,
     "user": {
      "displayName": "Anuar H.",
      "photoUrl": "https://lh3.googleusercontent.com/a/default-user=s64",
      "userId": "10764280164805571617"
     },
     "user_tz": -480
    },
    "id": "GdIv_-iZc7tx",
    "outputId": "0b9598ff-39d1-4e8d-8f31-098f2b435cd5"
   },
   "outputs": [
    {
     "data": {
      "text/plain": [
       "str"
      ]
     },
     "execution_count": 4,
     "metadata": {},
     "output_type": "execute_result"
    }
   ],
   "source": [
    "type(greeting)"
   ]
  },
  {
   "cell_type": "markdown",
   "metadata": {
    "id": "RTYwF3xxdMl4"
   },
   "source": [
    "We can do several operation on a string object. One of them is to concatenate string objects using the `+` sign:"
   ]
  },
  {
   "cell_type": "code",
   "execution_count": 5,
   "metadata": {
    "colab": {
     "base_uri": "https://localhost:8080/"
    },
    "executionInfo": {
     "elapsed": 68,
     "status": "ok",
     "timestamp": 1633579693798,
     "user": {
      "displayName": "Anuar H.",
      "photoUrl": "https://lh3.googleusercontent.com/a/default-user=s64",
      "userId": "10764280164805571617"
     },
     "user_tz": -480
    },
    "id": "2pedJiBPdYih",
    "outputId": "77d4f444-67ba-467b-f8c5-b4697222f487"
   },
   "outputs": [
    {
     "name": "stdout",
     "output_type": "stream",
     "text": [
      "Hello Anuar\n"
     ]
    }
   ],
   "source": [
    "name = 'Anuar'\n",
    "print(greeting + ' ' + name)"
   ]
  },
  {
   "cell_type": "markdown",
   "metadata": {
    "id": "fQQWAFbOzb6W"
   },
   "source": [
    "We cannot concatenate a string with a number. One need to cast a number to a string first by using `str()`:"
   ]
  },
  {
   "cell_type": "code",
   "execution_count": 6,
   "metadata": {
    "colab": {
     "base_uri": "https://localhost:8080/",
     "height": 35
    },
    "executionInfo": {
     "elapsed": 66,
     "status": "ok",
     "timestamp": 1633579693798,
     "user": {
      "displayName": "Anuar H.",
      "photoUrl": "https://lh3.googleusercontent.com/a/default-user=s64",
      "userId": "10764280164805571617"
     },
     "user_tz": -480
    },
    "id": "pgB8lCAnzo14",
    "outputId": "7fb74a00-2ca0-42f1-95cc-ca6835db7108"
   },
   "outputs": [
    {
     "data": {
      "text/plain": [
       "'Hello Anuar10'"
      ]
     },
     "execution_count": 6,
     "metadata": {},
     "output_type": "execute_result"
    }
   ],
   "source": [
    "greeting + ' ' + name + str(10)"
   ]
  },
  {
   "cell_type": "markdown",
   "metadata": {
    "id": "h3LIrUZwedkh"
   },
   "source": [
    "## Slicing and Indexing\n",
    "\n",
    "We have seen previously that `greeting = \"Hello\"`. Here, each of the letter in the variable `greeting` (i.e. `H`, `e`, `l`, `l`, `o` can be accessed using a square bracket and provide the index or \"address\": "
   ]
  },
  {
   "cell_type": "code",
   "execution_count": 7,
   "metadata": {
    "colab": {
     "base_uri": "https://localhost:8080/",
     "height": 35
    },
    "executionInfo": {
     "elapsed": 66,
     "status": "ok",
     "timestamp": 1633579693799,
     "user": {
      "displayName": "Anuar H.",
      "photoUrl": "https://lh3.googleusercontent.com/a/default-user=s64",
      "userId": "10764280164805571617"
     },
     "user_tz": -480
    },
    "id": "rpHgXLokgeVz",
    "outputId": "8be34dfa-35b2-45af-849b-d00664cbfd43"
   },
   "outputs": [
    {
     "data": {
      "text/plain": [
       "'H'"
      ]
     },
     "execution_count": 7,
     "metadata": {},
     "output_type": "execute_result"
    }
   ],
   "source": [
    "greeting[0]"
   ]
  },
  {
   "cell_type": "markdown",
   "metadata": {
    "id": "1dbqRCrSgueA"
   },
   "source": [
    "Python uses zero-based indexing. So that means to access the first element in the string oject called `greeting`, we use `greeting = [0]`.\n",
    "\n",
    "To slice the string (i.e. select a section of the string), we use the `:` symbol, e.g.:"
   ]
  },
  {
   "cell_type": "code",
   "execution_count": 8,
   "metadata": {
    "colab": {
     "base_uri": "https://localhost:8080/",
     "height": 35
    },
    "executionInfo": {
     "elapsed": 66,
     "status": "ok",
     "timestamp": 1633579693800,
     "user": {
      "displayName": "Anuar H.",
      "photoUrl": "https://lh3.googleusercontent.com/a/default-user=s64",
      "userId": "10764280164805571617"
     },
     "user_tz": -480
    },
    "id": "8yTm3XcPhRL5",
    "outputId": "0e3ee0f6-2aac-4633-e174-e8341fb6593e"
   },
   "outputs": [
    {
     "data": {
      "text/plain": [
       "'ell'"
      ]
     },
     "execution_count": 8,
     "metadata": {},
     "output_type": "execute_result"
    }
   ],
   "source": [
    "greeting[1:4]"
   ]
  },
  {
   "cell_type": "markdown",
   "metadata": {
    "id": "eGpAOWEqhY8J"
   },
   "source": [
    "In this case, we use `1` as the start value, hence `e` is the first letter selected. \n",
    "\n",
    "Then, we use `:` to indicate \"up to\", and use `4` as the end index. \n",
    "\n",
    "The end index itself will not be counted hence if we say `[1:4]`, we are referring to the indices `1`, `2` and `3`, hence we have `greeting[1:4] = ell` in the code above.\n",
    "\n",
    "We can also index from the end using negative index. E.g."
   ]
  },
  {
   "cell_type": "code",
   "execution_count": 9,
   "metadata": {
    "colab": {
     "base_uri": "https://localhost:8080/",
     "height": 35
    },
    "executionInfo": {
     "elapsed": 65,
     "status": "ok",
     "timestamp": 1633579693800,
     "user": {
      "displayName": "Anuar H.",
      "photoUrl": "https://lh3.googleusercontent.com/a/default-user=s64",
      "userId": "10764280164805571617"
     },
     "user_tz": -480
    },
    "id": "Qc9mJPwrmyYJ",
    "outputId": "3ab380a4-44cc-4e8b-fd75-67dba9f68eeb"
   },
   "outputs": [
    {
     "data": {
      "text/plain": [
       "'o'"
      ]
     },
     "execution_count": 9,
     "metadata": {},
     "output_type": "execute_result"
    }
   ],
   "source": [
    "greeting[-1]"
   ]
  },
  {
   "cell_type": "markdown",
   "metadata": {
    "id": "gFRcqcaTm9e-"
   },
   "source": [
    "Using `-1` as the index select the very last element in the string."
   ]
  },
  {
   "cell_type": "markdown",
   "metadata": {
    "id": "Yshj9WJfr0e-"
   },
   "source": [
    "## Collection Data Types\n",
    "\n",
    "There are four main objects that can be used to store a collection of data:\n",
    "\n",
    "|Types|How to define?|Ordered?|Changable?|Duplicate members?|\n",
    "|--|--|--|--|--|\n",
    "|**List**| Square bracket | Yes | Yes | Yes | \n",
    "|**Tuple**| Round bracket | Yes | No | Yes |\n",
    "|**Dictionary**| Curly bracket | Yes | Yes | No |\n",
    "|**Set**| Curly bracket | No | No | No |\n",
    "\n",
    "\n"
   ]
  },
  {
   "cell_type": "markdown",
   "metadata": {
    "id": "TTePON66u6YQ"
   },
   "source": [
    "## Lists\n",
    "\n",
    "List is defined by square brackets, e.g.:"
   ]
  },
  {
   "cell_type": "code",
   "execution_count": 10,
   "metadata": {
    "executionInfo": {
     "elapsed": 65,
     "status": "ok",
     "timestamp": 1633579693801,
     "user": {
      "displayName": "Anuar H.",
      "photoUrl": "https://lh3.googleusercontent.com/a/default-user=s64",
      "userId": "10764280164805571617"
     },
     "user_tz": -480
    },
    "id": "cUfTZ_iTvFWt"
   },
   "outputs": [],
   "source": [
    "my_list = [\"This\", \"is\", \"a\", \"list\"]"
   ]
  },
  {
   "cell_type": "markdown",
   "metadata": {
    "id": "FwuR8MCmwcyt"
   },
   "source": [
    "Check the object type of `my_list` using `type()`:"
   ]
  },
  {
   "cell_type": "code",
   "execution_count": 11,
   "metadata": {
    "colab": {
     "base_uri": "https://localhost:8080/"
    },
    "executionInfo": {
     "elapsed": 65,
     "status": "ok",
     "timestamp": 1633579693801,
     "user": {
      "displayName": "Anuar H.",
      "photoUrl": "https://lh3.googleusercontent.com/a/default-user=s64",
      "userId": "10764280164805571617"
     },
     "user_tz": -480
    },
    "id": "R1nhEcokwhk0",
    "outputId": "5a380585-e4e8-4643-a84b-fa4a56c93094"
   },
   "outputs": [
    {
     "data": {
      "text/plain": [
       "list"
      ]
     },
     "execution_count": 11,
     "metadata": {},
     "output_type": "execute_result"
    }
   ],
   "source": [
    "type(my_list)"
   ]
  },
  {
   "cell_type": "markdown",
   "metadata": {
    "id": "-FPmoEbvvPCu"
   },
   "source": [
    "To access the element(s) in the list, we apply the same indexing rule we used for string objects apply. \n",
    "\n",
    "For example, to select the second element in `my_list`, we need to use index `1` because the index starts from `0`:"
   ]
  },
  {
   "cell_type": "code",
   "execution_count": 12,
   "metadata": {
    "colab": {
     "base_uri": "https://localhost:8080/",
     "height": 35
    },
    "executionInfo": {
     "elapsed": 63,
     "status": "ok",
     "timestamp": 1633579693802,
     "user": {
      "displayName": "Anuar H.",
      "photoUrl": "https://lh3.googleusercontent.com/a/default-user=s64",
      "userId": "10764280164805571617"
     },
     "user_tz": -480
    },
    "id": "1ozMD5NxveMG",
    "outputId": "a4994b71-2abf-406a-fb26-f787b60978cd"
   },
   "outputs": [
    {
     "data": {
      "text/plain": [
       "'is'"
      ]
     },
     "execution_count": 12,
     "metadata": {},
     "output_type": "execute_result"
    }
   ],
   "source": [
    "my_list[1]"
   ]
  },
  {
   "cell_type": "markdown",
   "metadata": {
    "id": "B8i1DleLvkvt"
   },
   "source": [
    "We can also use a multilevel index:"
   ]
  },
  {
   "cell_type": "code",
   "execution_count": 13,
   "metadata": {
    "colab": {
     "base_uri": "https://localhost:8080/",
     "height": 35
    },
    "executionInfo": {
     "elapsed": 62,
     "status": "ok",
     "timestamp": 1633579693802,
     "user": {
      "displayName": "Anuar H.",
      "photoUrl": "https://lh3.googleusercontent.com/a/default-user=s64",
      "userId": "10764280164805571617"
     },
     "user_tz": -480
    },
    "id": "tR1cY-RIvo0-",
    "outputId": "3c73c6c7-a99b-4b4c-c6e4-46bf97a23c8d"
   },
   "outputs": [
    {
     "data": {
      "text/plain": [
       "'i'"
      ]
     },
     "execution_count": 13,
     "metadata": {},
     "output_type": "execute_result"
    }
   ],
   "source": [
    "my_list[1][0]"
   ]
  },
  {
   "cell_type": "markdown",
   "metadata": {
    "id": "JkHRxhw9vxZv"
   },
   "source": [
    "There are several methods we can apply on a list object. One of the is "
   ]
  },
  {
   "cell_type": "code",
   "execution_count": 14,
   "metadata": {
    "colab": {
     "base_uri": "https://localhost:8080/"
    },
    "executionInfo": {
     "elapsed": 61,
     "status": "ok",
     "timestamp": 1633579693803,
     "user": {
      "displayName": "Anuar H.",
      "photoUrl": "https://lh3.googleusercontent.com/a/default-user=s64",
      "userId": "10764280164805571617"
     },
     "user_tz": -480
    },
    "id": "x9A3RhsAv4HV",
    "outputId": "93a611dd-55a6-47dc-d10a-ae0608058e04"
   },
   "outputs": [
    {
     "data": {
      "text/plain": [
       "['This', 'is', 'a', 'list', 'new data']"
      ]
     },
     "execution_count": 14,
     "metadata": {},
     "output_type": "execute_result"
    }
   ],
   "source": [
    "my_list.append(\"new data\")\n",
    "my_list"
   ]
  },
  {
   "cell_type": "markdown",
   "metadata": {
    "id": "H_BF9ATvwD6m"
   },
   "source": [
    "Here, by using `append` we add new element (i.e. a string `\"new data\"`) at the end of the list."
   ]
  },
  {
   "cell_type": "markdown",
   "metadata": {
    "id": "SWHM36mexYWW"
   },
   "source": [
    "## For Loops\n",
    "\n",
    "A `for` loop is used to iterate a sequence. This is the most common way to repeat some tasks we want to perform.\n",
    "\n",
    "Consider the previous list that we have:"
   ]
  },
  {
   "cell_type": "code",
   "execution_count": 15,
   "metadata": {
    "colab": {
     "base_uri": "https://localhost:8080/"
    },
    "executionInfo": {
     "elapsed": 59,
     "status": "ok",
     "timestamp": 1633579693803,
     "user": {
      "displayName": "Anuar H.",
      "photoUrl": "https://lh3.googleusercontent.com/a/default-user=s64",
      "userId": "10764280164805571617"
     },
     "user_tz": -480
    },
    "id": "ZF9180_Wx7x8",
    "outputId": "74ecd630-23a8-4326-bfdd-dbe4def85fa8"
   },
   "outputs": [
    {
     "data": {
      "text/plain": [
       "['This', 'is', 'a', 'list', 'new data']"
      ]
     },
     "execution_count": 15,
     "metadata": {},
     "output_type": "execute_result"
    }
   ],
   "source": [
    "my_list"
   ]
  },
  {
   "cell_type": "markdown",
   "metadata": {
    "id": "iqN99krOx9tc"
   },
   "source": [
    "If we want to print out all the elements inside this list one by one, we need to iterate each element and use `print()`, i.e.:"
   ]
  },
  {
   "cell_type": "code",
   "execution_count": 16,
   "metadata": {
    "colab": {
     "base_uri": "https://localhost:8080/"
    },
    "executionInfo": {
     "elapsed": 58,
     "status": "ok",
     "timestamp": 1633579693804,
     "user": {
      "displayName": "Anuar H.",
      "photoUrl": "https://lh3.googleusercontent.com/a/default-user=s64",
      "userId": "10764280164805571617"
     },
     "user_tz": -480
    },
    "id": "T9ziL-weyMv0",
    "outputId": "9ac0e2bc-62bc-422c-c177-5b0ae2a56e5f"
   },
   "outputs": [
    {
     "name": "stdout",
     "output_type": "stream",
     "text": [
      "This\n",
      "is\n",
      "a\n",
      "list\n",
      "new data\n"
     ]
    }
   ],
   "source": [
    "for x in my_list:\n",
    "  print(x)"
   ]
  },
  {
   "cell_type": "markdown",
   "metadata": {
    "id": "BBLHvZOWyXq0"
   },
   "source": [
    "Here, the `for` loop goes to each element in `my_list` and assign the element to a variable name called `x`. The choice of this variable name `x` is arbitary.\n",
    "\n",
    "Notice that after the line that contains `for` statement, that subsequent lines require indentation.\n",
    "\n",
    "We can also iterate through a collection of number:"
   ]
  },
  {
   "cell_type": "code",
   "execution_count": 17,
   "metadata": {
    "colab": {
     "base_uri": "https://localhost:8080/"
    },
    "executionInfo": {
     "elapsed": 56,
     "status": "ok",
     "timestamp": 1633579693804,
     "user": {
      "displayName": "Anuar H.",
      "photoUrl": "https://lh3.googleusercontent.com/a/default-user=s64",
      "userId": "10764280164805571617"
     },
     "user_tz": -480
    },
    "id": "U1P0mnu10QhM",
    "outputId": "94c3613b-b81a-4c56-f4fc-b84b90e809a1"
   },
   "outputs": [
    {
     "name": "stdout",
     "output_type": "stream",
     "text": [
      "0\n",
      "This\n",
      "1\n",
      "is\n",
      "2\n",
      "a\n",
      "3\n",
      "list\n",
      "4\n",
      "new data\n"
     ]
    }
   ],
   "source": [
    "for i in [0,1,2,3,4]:\n",
    "  print(i)\n",
    "  print(my_list[i])"
   ]
  },
  {
   "cell_type": "markdown",
   "metadata": {
    "id": "_KaXTnEY0xnm"
   },
   "source": [
    "In the second `print()` statement above, we are using element that is assigned to variable `i` at each loop to access the element in `my_list`.\n",
    "\n",
    "A sequence of integers can also be generated using `range()` that is usually used to iterate `for` loops: "
   ]
  },
  {
   "cell_type": "code",
   "execution_count": 18,
   "metadata": {
    "colab": {
     "base_uri": "https://localhost:8080/"
    },
    "executionInfo": {
     "elapsed": 54,
     "status": "ok",
     "timestamp": 1633579693805,
     "user": {
      "displayName": "Anuar H.",
      "photoUrl": "https://lh3.googleusercontent.com/a/default-user=s64",
      "userId": "10764280164805571617"
     },
     "user_tz": -480
    },
    "id": "wuvX4Mqc15fV",
    "outputId": "75c669d7-ba84-4d74-f9b9-6e65476a0ed5"
   },
   "outputs": [
    {
     "name": "stdout",
     "output_type": "stream",
     "text": [
      "0\n",
      "1\n",
      "4\n",
      "9\n",
      "16\n"
     ]
    }
   ],
   "source": [
    "for k in range(5):\n",
    "  print(k**2)"
   ]
  },
  {
   "cell_type": "markdown",
   "metadata": {
    "id": "05V9Dajq2NX_"
   },
   "source": [
    "Nested `for` loops are also possible:"
   ]
  },
  {
   "cell_type": "code",
   "execution_count": 19,
   "metadata": {
    "colab": {
     "base_uri": "https://localhost:8080/"
    },
    "executionInfo": {
     "elapsed": 51,
     "status": "ok",
     "timestamp": 1633579693805,
     "user": {
      "displayName": "Anuar H.",
      "photoUrl": "https://lh3.googleusercontent.com/a/default-user=s64",
      "userId": "10764280164805571617"
     },
     "user_tz": -480
    },
    "id": "kqh-kyla2VSN",
    "outputId": "07f5bb8d-9dd2-49c4-ae84-c9296d1c99e5"
   },
   "outputs": [
    {
     "name": "stdout",
     "output_type": "stream",
     "text": [
      "i=0  j = 100\n",
      "i=0  j = 101\n",
      "i=0  j = 102\n",
      "i=1  j = 100\n",
      "i=1  j = 101\n",
      "i=1  j = 102\n"
     ]
    }
   ],
   "source": [
    "for i in range(2):\n",
    "  for j in range(100, 103):\n",
    "    print(\"i=\" + str(i), \" j = \" + str(j))"
   ]
  },
  {
   "cell_type": "markdown",
   "metadata": {},
   "source": [
    "## Exercise\n",
    "\n",
    "Create two variables assign them with your first name and last name (i.e. string objects). \n",
    "\n",
    "Then, perform a nested loop to print out each letter in your first name (under the first `for` loop) and last name (the second `for` loop)."
   ]
  },
  {
   "cell_type": "code",
   "execution_count": 20,
   "metadata": {},
   "outputs": [
    {
     "name": "stdout",
     "output_type": "stream",
     "text": [
      "A\n",
      "h\n",
      "a\n",
      "m\n",
      "i\n",
      "d\n",
      "N\n",
      "h\n",
      "a\n",
      "m\n",
      "i\n",
      "d\n",
      "U\n",
      "h\n",
      "a\n",
      "m\n",
      "i\n",
      "d\n",
      "A\n",
      "h\n",
      "a\n",
      "m\n",
      "i\n",
      "d\n",
      "R\n",
      "h\n",
      "a\n",
      "m\n",
      "i\n",
      "d\n"
     ]
    }
   ],
   "source": [
    "firstname = \"ANUAR\"\n",
    "lastname = \"hamid\"\n",
    "\n",
    "for x in firstname:\n",
    "    print(x)\n",
    "    for y in lastname:\n",
    "        print(y)"
   ]
  },
  {
   "cell_type": "markdown",
   "metadata": {
    "id": "JaJ1B9C_uqkD"
   },
   "source": [
    "# Core Python II"
   ]
  },
  {
   "cell_type": "markdown",
   "metadata": {
    "id": "EIasH05TbPAg"
   },
   "source": [
    "## Types of Numbers\n",
    "\n",
    "There are three types of numbers in Python:\n",
    "\n",
    "\n",
    "*   Integers: `1`, `2`, `-159`, `120504`\n",
    "*   Floating-point numbers: `1.0`, `-2.9`, `1.67e8`\n",
    "*   Complex numbers: `5+6j`, `complex(20, 3)`\n",
    " \n",
    "To check the Python object type, use `type`\n"
   ]
  },
  {
   "cell_type": "code",
   "execution_count": 21,
   "metadata": {
    "colab": {
     "base_uri": "https://localhost:8080/"
    },
    "executionInfo": {
     "elapsed": 47,
     "status": "ok",
     "timestamp": 1633579693805,
     "user": {
      "displayName": "Anuar H.",
      "photoUrl": "https://lh3.googleusercontent.com/a/default-user=s64",
      "userId": "10764280164805571617"
     },
     "user_tz": -480
    },
    "id": "oTxLJmVobUVw",
    "outputId": "4c422303-e17a-4d64-c79f-efa8fcd2ffee"
   },
   "outputs": [
    {
     "name": "stdout",
     "output_type": "stream",
     "text": [
      "<class 'int'>\n",
      "<class 'float'>\n",
      "<class 'complex'>\n"
     ]
    }
   ],
   "source": [
    "print(type(3))\n",
    "print(type(6.44e12))\n",
    "print(type(complex(3,7)))"
   ]
  },
  {
   "cell_type": "markdown",
   "metadata": {
    "id": "mK9pdWGAg_4C"
   },
   "source": [
    "## Basic Arithmetic\n",
    "\n",
    "|Operators|Symbol in Python|\n",
    "|--|--|\n",
    "|Addition| `+` |\n",
    "|Subtraction| `-` |\n",
    "|Multiplication| `*` |\n",
    "|Floating-point division| `/` |\n",
    "|Integer division| `//` |\n",
    "|Modulus| `%` |\n",
    "|Exponent| `**` |"
   ]
  },
  {
   "cell_type": "code",
   "execution_count": 22,
   "metadata": {
    "colab": {
     "base_uri": "https://localhost:8080/"
    },
    "executionInfo": {
     "elapsed": 47,
     "status": "ok",
     "timestamp": 1633579693806,
     "user": {
      "displayName": "Anuar H.",
      "photoUrl": "https://lh3.googleusercontent.com/a/default-user=s64",
      "userId": "10764280164805571617"
     },
     "user_tz": -480
    },
    "id": "02Fx0zEAhi4o",
    "outputId": "72d00aea-4532-4230-e91c-153ca8d8e005"
   },
   "outputs": [
    {
     "name": "stdout",
     "output_type": "stream",
     "text": [
      "5 2.0\n"
     ]
    }
   ],
   "source": [
    "a, b = 5, 2.0\n",
    "print(a, b)"
   ]
  },
  {
   "cell_type": "code",
   "execution_count": 23,
   "metadata": {
    "colab": {
     "base_uri": "https://localhost:8080/"
    },
    "executionInfo": {
     "elapsed": 45,
     "status": "ok",
     "timestamp": 1633579693806,
     "user": {
      "displayName": "Anuar H.",
      "photoUrl": "https://lh3.googleusercontent.com/a/default-user=s64",
      "userId": "10764280164805571617"
     },
     "user_tz": -480
    },
    "id": "agCeUBCLiL96",
    "outputId": "5d916586-4de3-4192-d37a-964a3006c54b"
   },
   "outputs": [
    {
     "data": {
      "text/plain": [
       "7.0"
      ]
     },
     "execution_count": 23,
     "metadata": {},
     "output_type": "execute_result"
    }
   ],
   "source": [
    "a + b"
   ]
  },
  {
   "cell_type": "code",
   "execution_count": 24,
   "metadata": {
    "colab": {
     "base_uri": "https://localhost:8080/"
    },
    "executionInfo": {
     "elapsed": 45,
     "status": "ok",
     "timestamp": 1633579693807,
     "user": {
      "displayName": "Anuar H.",
      "photoUrl": "https://lh3.googleusercontent.com/a/default-user=s64",
      "userId": "10764280164805571617"
     },
     "user_tz": -480
    },
    "id": "0gdkWHpHiqNA",
    "outputId": "5fe4c2f9-37a1-4181-9c41-b16de5cc66ea"
   },
   "outputs": [
    {
     "data": {
      "text/plain": [
       "25.0"
      ]
     },
     "execution_count": 24,
     "metadata": {},
     "output_type": "execute_result"
    }
   ],
   "source": [
    "a**b"
   ]
  },
  {
   "cell_type": "code",
   "execution_count": 25,
   "metadata": {
    "colab": {
     "base_uri": "https://localhost:8080/"
    },
    "executionInfo": {
     "elapsed": 42,
     "status": "ok",
     "timestamp": 1633579693807,
     "user": {
      "displayName": "Anuar H.",
      "photoUrl": "https://lh3.googleusercontent.com/a/default-user=s64",
      "userId": "10764280164805571617"
     },
     "user_tz": -480
    },
    "id": "bkhXVnFAi05w",
    "outputId": "90df7de5-ee39-475e-892a-70eeb4c1f9a4"
   },
   "outputs": [
    {
     "data": {
      "text/plain": [
       "1.0"
      ]
     },
     "execution_count": 25,
     "metadata": {},
     "output_type": "execute_result"
    }
   ],
   "source": [
    "a % b"
   ]
  },
  {
   "cell_type": "markdown",
   "metadata": {
    "id": "xtfGaZrIjPdx"
   },
   "source": [
    "## Mathematical Functions\n",
    "Two main Python built-in mathematical functions:\n",
    "\n",
    "\n",
    "*   Absolute value: `abs()`\n",
    "*   Round to the neareset integer: `round()`"
   ]
  },
  {
   "cell_type": "code",
   "execution_count": 26,
   "metadata": {
    "colab": {
     "base_uri": "https://localhost:8080/"
    },
    "executionInfo": {
     "elapsed": 40,
     "status": "ok",
     "timestamp": 1633579693808,
     "user": {
      "displayName": "Anuar H.",
      "photoUrl": "https://lh3.googleusercontent.com/a/default-user=s64",
      "userId": "10764280164805571617"
     },
     "user_tz": -480
    },
    "id": "q0hEz1TKjUgo",
    "outputId": "63ee724e-8a75-47cc-8eb5-951ae968698a"
   },
   "outputs": [
    {
     "data": {
      "text/plain": [
       "67.4"
      ]
     },
     "execution_count": 26,
     "metadata": {},
     "output_type": "execute_result"
    }
   ],
   "source": [
    "abs(-67.4)"
   ]
  },
  {
   "cell_type": "code",
   "execution_count": 27,
   "metadata": {
    "colab": {
     "base_uri": "https://localhost:8080/"
    },
    "executionInfo": {
     "elapsed": 38,
     "status": "ok",
     "timestamp": 1633579693808,
     "user": {
      "displayName": "Anuar H.",
      "photoUrl": "https://lh3.googleusercontent.com/a/default-user=s64",
      "userId": "10764280164805571617"
     },
     "user_tz": -480
    },
    "id": "jmh_S3CkkYBR",
    "outputId": "1e2c1384-f622-46c0-b9a8-fbbc024b8a71"
   },
   "outputs": [
    {
     "data": {
      "text/plain": [
       "19"
      ]
     },
     "execution_count": 27,
     "metadata": {},
     "output_type": "execute_result"
    }
   ],
   "source": [
    "round(18.6)"
   ]
  },
  {
   "cell_type": "code",
   "execution_count": 28,
   "metadata": {
    "colab": {
     "base_uri": "https://localhost:8080/"
    },
    "executionInfo": {
     "elapsed": 36,
     "status": "ok",
     "timestamp": 1633579693808,
     "user": {
      "displayName": "Anuar H.",
      "photoUrl": "https://lh3.googleusercontent.com/a/default-user=s64",
      "userId": "10764280164805571617"
     },
     "user_tz": -480
    },
    "id": "iApwgiCPkb4R",
    "outputId": "124ae796-6149-478f-c3e8-20d39a88da8b"
   },
   "outputs": [
    {
     "data": {
      "text/plain": [
       "-2.36"
      ]
     },
     "execution_count": 28,
     "metadata": {},
     "output_type": "execute_result"
    }
   ],
   "source": [
    "round(-2.3572, 2)"
   ]
  },
  {
   "cell_type": "markdown",
   "metadata": {
    "id": "tXh3JLj0kn0z"
   },
   "source": [
    "The second argument in `round()` above defines the number of digits after the decimal point. "
   ]
  },
  {
   "cell_type": "markdown",
   "metadata": {
    "id": "YwxEgNKLlAiR"
   },
   "source": [
    "## The `math` Module\n",
    "\n",
    "More mathematical functions can be accessed by import the `math` module."
   ]
  },
  {
   "cell_type": "code",
   "execution_count": 29,
   "metadata": {
    "executionInfo": {
     "elapsed": 35,
     "status": "ok",
     "timestamp": 1633579693809,
     "user": {
      "displayName": "Anuar H.",
      "photoUrl": "https://lh3.googleusercontent.com/a/default-user=s64",
      "userId": "10764280164805571617"
     },
     "user_tz": -480
    },
    "id": "6CClkXDOlHtI"
   },
   "outputs": [],
   "source": [
    "import math"
   ]
  },
  {
   "cell_type": "markdown",
   "metadata": {
    "id": "BY72d_nGlhby"
   },
   "source": [
    "For example, to find the value of sin($\\frac{\\pi}{2}$):"
   ]
  },
  {
   "cell_type": "code",
   "execution_count": 30,
   "metadata": {
    "colab": {
     "base_uri": "https://localhost:8080/"
    },
    "executionInfo": {
     "elapsed": 35,
     "status": "ok",
     "timestamp": 1633579693809,
     "user": {
      "displayName": "Anuar H.",
      "photoUrl": "https://lh3.googleusercontent.com/a/default-user=s64",
      "userId": "10764280164805571617"
     },
     "user_tz": -480
    },
    "id": "Sti9-HF3lMzZ",
    "outputId": "200c75b6-6234-4a72-c0b2-7941a8c3e147"
   },
   "outputs": [
    {
     "data": {
      "text/plain": [
       "1.0"
      ]
     },
     "execution_count": 30,
     "metadata": {},
     "output_type": "execute_result"
    }
   ],
   "source": [
    "math.sin(math.pi/2)"
   ]
  },
  {
   "cell_type": "markdown",
   "metadata": {
    "id": "J3Tx5cuFnOpS"
   },
   "source": [
    "## Variables\n",
    "\n",
    "Python objects (e.g. float, string) can be stored as variables. This is achieved by assigning the object (e.g. `6.0`) to a variable name (e.g. `my_var`) using `=` symbol, i.e. `my_var = 6.0`."
   ]
  },
  {
   "cell_type": "code",
   "execution_count": 31,
   "metadata": {
    "colab": {
     "base_uri": "https://localhost:8080/"
    },
    "executionInfo": {
     "elapsed": 35,
     "status": "ok",
     "timestamp": 1633579693810,
     "user": {
      "displayName": "Anuar H.",
      "photoUrl": "https://lh3.googleusercontent.com/a/default-user=s64",
      "userId": "10764280164805571617"
     },
     "user_tz": -480
    },
    "id": "4nN8FMp6nHaS",
    "outputId": "5873d5a7-24e0-4ec7-8a49-ab31ddc25321"
   },
   "outputs": [
    {
     "name": "stdout",
     "output_type": "stream",
     "text": [
      "6.0\n"
     ]
    }
   ],
   "source": [
    "my_var = 6.0\n",
    "print(my_var)"
   ]
  },
  {
   "cell_type": "markdown",
   "metadata": {
    "id": "QZbD1vqxpFwK"
   },
   "source": [
    "A variable is stored at a specific memory location in the computer, which can be accessed using `id()`."
   ]
  },
  {
   "cell_type": "code",
   "execution_count": 32,
   "metadata": {
    "colab": {
     "base_uri": "https://localhost:8080/"
    },
    "executionInfo": {
     "elapsed": 33,
     "status": "ok",
     "timestamp": 1633579693810,
     "user": {
      "displayName": "Anuar H.",
      "photoUrl": "https://lh3.googleusercontent.com/a/default-user=s64",
      "userId": "10764280164805571617"
     },
     "user_tz": -480
    },
    "id": "ICvCx5TXopCq",
    "outputId": "ea627246-9157-4a7e-e77d-254551705d92"
   },
   "outputs": [
    {
     "data": {
      "text/plain": [
       "1599914481808"
      ]
     },
     "execution_count": 32,
     "metadata": {},
     "output_type": "execute_result"
    }
   ],
   "source": [
    "id(my_var)"
   ]
  },
  {
   "cell_type": "markdown",
   "metadata": {
    "id": "03skGcMVp-Pq"
   },
   "source": [
    "## Comparison Operators\n",
    "\n",
    "Comparison operators allow 2 Python objects to be compared and they return boolean object (`True` or `False`).\n",
    "\n",
    "|Comparison Operators|Symbol in Python|\n",
    "|--|--|\n",
    "| Equal to |==|\n",
    "| Not equal to |!=|\n",
    "| Greater than |>|\n",
    "| Less than |<|\n",
    "| Greater than or equal to |>=|\n",
    "| Less than or equal to |<=|"
   ]
  },
  {
   "cell_type": "code",
   "execution_count": 33,
   "metadata": {
    "executionInfo": {
     "elapsed": 33,
     "status": "ok",
     "timestamp": 1633579693811,
     "user": {
      "displayName": "Anuar H.",
      "photoUrl": "https://lh3.googleusercontent.com/a/default-user=s64",
      "userId": "10764280164805571617"
     },
     "user_tz": -480
    },
    "id": "YE6rDcI6pQBh"
   },
   "outputs": [],
   "source": [
    " x = 5\n",
    " y = 7"
   ]
  },
  {
   "cell_type": "code",
   "execution_count": 34,
   "metadata": {
    "colab": {
     "base_uri": "https://localhost:8080/"
    },
    "executionInfo": {
     "elapsed": 482,
     "status": "ok",
     "timestamp": 1633579694261,
     "user": {
      "displayName": "Anuar H.",
      "photoUrl": "https://lh3.googleusercontent.com/a/default-user=s64",
      "userId": "10764280164805571617"
     },
     "user_tz": -480
    },
    "id": "vWQt9vvTrZwr",
    "outputId": "2cb495dc-0ede-4012-a9f2-2fb88886bcd3"
   },
   "outputs": [
    {
     "data": {
      "text/plain": [
       "False"
      ]
     },
     "execution_count": 34,
     "metadata": {},
     "output_type": "execute_result"
    }
   ],
   "source": [
    " x == y"
   ]
  },
  {
   "cell_type": "code",
   "execution_count": 35,
   "metadata": {
    "colab": {
     "base_uri": "https://localhost:8080/"
    },
    "executionInfo": {
     "elapsed": 20,
     "status": "ok",
     "timestamp": 1633579694262,
     "user": {
      "displayName": "Anuar H.",
      "photoUrl": "https://lh3.googleusercontent.com/a/default-user=s64",
      "userId": "10764280164805571617"
     },
     "user_tz": -480
    },
    "id": "1cfj_2vkrI9T",
    "outputId": "fe9a0c4e-a55b-48db-d83a-9eae2e180ed0"
   },
   "outputs": [
    {
     "data": {
      "text/plain": [
       "True"
      ]
     },
     "execution_count": 35,
     "metadata": {},
     "output_type": "execute_result"
    }
   ],
   "source": [
    "x + 2 == y"
   ]
  },
  {
   "cell_type": "markdown",
   "metadata": {
    "id": "lt7BRMOZrsES"
   },
   "source": [
    "## Logic Operators\n",
    "\n",
    "There are 3 logic operators in Python:\n",
    "\n",
    "\n",
    "*   `and`\n",
    "*   `not`\n",
    "*   `or`\n",
    "\n",
    "The comparison and logic operators can be used together to return boolean object, e.g.:\n",
    "\n"
   ]
  },
  {
   "cell_type": "code",
   "execution_count": 36,
   "metadata": {
    "colab": {
     "base_uri": "https://localhost:8080/"
    },
    "executionInfo": {
     "elapsed": 18,
     "status": "ok",
     "timestamp": 1633579694262,
     "user": {
      "displayName": "Anuar H.",
      "photoUrl": "https://lh3.googleusercontent.com/a/default-user=s64",
      "userId": "10764280164805571617"
     },
     "user_tz": -480
    },
    "id": "Rug84CFPsDzw",
    "outputId": "393bab90-664a-4f77-ca7c-9471aed50323"
   },
   "outputs": [
    {
     "data": {
      "text/plain": [
       "True"
      ]
     },
     "execution_count": 36,
     "metadata": {},
     "output_type": "execute_result"
    }
   ],
   "source": [
    "5 > 4 and 2**2 == 4"
   ]
  },
  {
   "cell_type": "markdown",
   "metadata": {
    "id": "2t5jq3DBsq4D"
   },
   "source": [
    "Here, since both `5 > 4` and `2**2 == 4` are `True`, using `and` as the logic will return `True`.\n",
    "\n",
    "Using `not` statement will invert the Boolean object:"
   ]
  },
  {
   "cell_type": "code",
   "execution_count": 37,
   "metadata": {},
   "outputs": [
    {
     "data": {
      "text/plain": [
       "True"
      ]
     },
     "execution_count": 37,
     "metadata": {},
     "output_type": "execute_result"
    }
   ],
   "source": [
    "not(5==4)"
   ]
  },
  {
   "cell_type": "markdown",
   "metadata": {
    "id": "FCVTLHQ0yjl7"
   },
   "source": [
    "## Functions\n",
    "\n",
    "Repetitive tasks can be avoided by writing a Python object called function. \n",
    "\n",
    "A function is defined by the `def` keyword. Function definitions may include parameters, providing data input to the function.\n",
    "\n",
    "Functions may return values using the `return` keyword followed by the value to return.\n",
    "\n",
    "The description of the function can be also added in between triple quotes `\"\"\" <description here> \"\"\"`.\n",
    "\n",
    "Consider the following code that take a parameter `x`, raise it to the power of 2, and return the squared value:\n",
    "\n"
   ]
  },
  {
   "cell_type": "code",
   "execution_count": 38,
   "metadata": {
    "executionInfo": {
     "elapsed": 17,
     "status": "ok",
     "timestamp": 1633579694263,
     "user": {
      "displayName": "Anuar H.",
      "photoUrl": "https://lh3.googleusercontent.com/a/default-user=s64",
      "userId": "10764280164805571617"
     },
     "user_tz": -480
    },
    "id": "joZ5YDWEynjZ"
   },
   "outputs": [],
   "source": [
    "def squared(x): # define the function name\n",
    "  \"\"\"\n",
    "  Take parameter x and raise it to the power of 2.\n",
    "  This is section is optional. \n",
    "  \"\"\"\n",
    "  squared_value = x**2 # take the parameter x and raise it to the power of 2\n",
    "\n",
    "  return squared_value # value(s) to return to whoever is calling this"
   ]
  },
  {
   "cell_type": "markdown",
   "metadata": {
    "id": "GDzz7jUyzVkL"
   },
   "source": [
    "We can see that `squared` is function-type object."
   ]
  },
  {
   "cell_type": "code",
   "execution_count": 39,
   "metadata": {
    "colab": {
     "base_uri": "https://localhost:8080/"
    },
    "executionInfo": {
     "elapsed": 18,
     "status": "ok",
     "timestamp": 1633579694264,
     "user": {
      "displayName": "Anuar H.",
      "photoUrl": "https://lh3.googleusercontent.com/a/default-user=s64",
      "userId": "10764280164805571617"
     },
     "user_tz": -480
    },
    "id": "1OXttSCD4U_0",
    "outputId": "5fa0f8e0-5d78-4a0c-9576-2752f7356ff2"
   },
   "outputs": [
    {
     "data": {
      "text/plain": [
       "function"
      ]
     },
     "execution_count": 39,
     "metadata": {},
     "output_type": "execute_result"
    }
   ],
   "source": [
    "type(squared)"
   ]
  },
  {
   "cell_type": "markdown",
   "metadata": {
    "id": "6xHFKV3h4Yrb"
   },
   "source": [
    "To use this function, we simply \"call\" the function name (after `def`) and supply the value required in the parathesis (in this case `x`):"
   ]
  },
  {
   "cell_type": "code",
   "execution_count": 40,
   "metadata": {
    "colab": {
     "base_uri": "https://localhost:8080/"
    },
    "executionInfo": {
     "elapsed": 17,
     "status": "ok",
     "timestamp": 1633579694265,
     "user": {
      "displayName": "Anuar H.",
      "photoUrl": "https://lh3.googleusercontent.com/a/default-user=s64",
      "userId": "10764280164805571617"
     },
     "user_tz": -480
    },
    "id": "hkbnwUKoy1cC",
    "outputId": "f074d8ba-cf08-4c9e-d6b2-d6bf7601100c"
   },
   "outputs": [
    {
     "data": {
      "text/plain": [
       "25"
      ]
     },
     "execution_count": 40,
     "metadata": {},
     "output_type": "execute_result"
    }
   ],
   "source": [
    "squared(5)"
   ]
  },
  {
   "cell_type": "markdown",
   "metadata": {
    "id": "xLs84Zfh0e8V"
   },
   "source": [
    "Or we could also assign the returned value to a variable:"
   ]
  },
  {
   "cell_type": "code",
   "execution_count": 41,
   "metadata": {
    "colab": {
     "base_uri": "https://localhost:8080/"
    },
    "executionInfo": {
     "elapsed": 15,
     "status": "ok",
     "timestamp": 1633579694265,
     "user": {
      "displayName": "Anuar H.",
      "photoUrl": "https://lh3.googleusercontent.com/a/default-user=s64",
      "userId": "10764280164805571617"
     },
     "user_tz": -480
    },
    "id": "9XZw0M_vy3Eq",
    "outputId": "259f9e6d-6f53-4bc0-a85a-7f7c565f41d5"
   },
   "outputs": [
    {
     "name": "stdout",
     "output_type": "stream",
     "text": [
      "9\n"
     ]
    }
   ],
   "source": [
    "x_squared = squared(3)\n",
    "print(x_squared)"
   ]
  },
  {
   "cell_type": "markdown",
   "metadata": {
    "id": "7aJgAqnqBN3d"
   },
   "source": [
    "The description of the function (called docstring) can be accessed by by adding `?` at the end of the function name."
   ]
  },
  {
   "cell_type": "code",
   "execution_count": 42,
   "metadata": {
    "executionInfo": {
     "elapsed": 14,
     "status": "ok",
     "timestamp": 1633579694266,
     "user": {
      "displayName": "Anuar H.",
      "photoUrl": "https://lh3.googleusercontent.com/a/default-user=s64",
      "userId": "10764280164805571617"
     },
     "user_tz": -480
    },
    "id": "VGvTJSFg4Km6"
   },
   "outputs": [],
   "source": [
    "squared?"
   ]
  },
  {
   "cell_type": "markdown",
   "metadata": {
    "id": "WDlD1ccsCits"
   },
   "source": [
    "## Conditional Statements\n",
    "\n",
    "Conditional statements allow the flow of our code to be directed as required.\n",
    "\n",
    "Consider the following example:"
   ]
  },
  {
   "cell_type": "code",
   "execution_count": 43,
   "metadata": {
    "colab": {
     "base_uri": "https://localhost:8080/"
    },
    "executionInfo": {
     "elapsed": 41,
     "status": "ok",
     "timestamp": 1633579694294,
     "user": {
      "displayName": "Anuar H.",
      "photoUrl": "https://lh3.googleusercontent.com/a/default-user=s64",
      "userId": "10764280164805571617"
     },
     "user_tz": -480
    },
    "id": "-DyJeoncDGsT",
    "outputId": "a895398a-2c69-49fb-87e3-1cc33a012338"
   },
   "outputs": [
    {
     "name": "stdout",
     "output_type": "stream",
     "text": [
      "a is bigger than 10\n"
     ]
    }
   ],
   "source": [
    "a = 11\n",
    "\n",
    "if a > 10:\n",
    "  print('a is bigger than 10')\n",
    "else:\n",
    "  print('a is smaller than 10')"
   ]
  },
  {
   "cell_type": "markdown",
   "metadata": {
    "id": "fEAipCqNpRn7"
   },
   "source": [
    "## Exercise\n",
    "\n",
    "1. Write a function called `summation` that takes variables `x` and `y` and sum them up. Then return a message that tells whether the sum number is an even or odd number."
   ]
  },
  {
   "cell_type": "code",
   "execution_count": 44,
   "metadata": {
    "colab": {
     "base_uri": "https://localhost:8080/",
     "height": 35
    },
    "executionInfo": {
     "elapsed": 59,
     "status": "ok",
     "timestamp": 1633579694314,
     "user": {
      "displayName": "Anuar H.",
      "photoUrl": "https://lh3.googleusercontent.com/a/default-user=s64",
      "userId": "10764280164805571617"
     },
     "user_tz": -480
    },
    "id": "P6AcIMFlpmI2",
    "outputId": "8a2343bf-44d2-4151-a719-dec48070c0f6"
   },
   "outputs": [
    {
     "data": {
      "text/plain": [
       "'Summation of x and y is an odd number'"
      ]
     },
     "execution_count": 44,
     "metadata": {},
     "output_type": "execute_result"
    }
   ],
   "source": [
    "def summation(x,y):\n",
    "  sum = x + y\n",
    "\n",
    "  if sum % 2 != 0:\n",
    "    return \"Summation of x and y is an odd number\"\n",
    "  else:\n",
    "    return \"Summation of x and y is an even number\"\n",
    "\n",
    "summation(5,4)"
   ]
  }
 ],
 "metadata": {
  "colab": {
   "authorship_tag": "ABX9TyN72OSPmKos6Gkm2fJVfFYM",
   "collapsed_sections": [],
   "name": "Core Python.ipynb",
   "provenance": [],
   "toc_visible": true
  },
  "kernelspec": {
   "display_name": "Python 3",
   "language": "python",
   "name": "python3"
  },
  "language_info": {
   "codemirror_mode": {
    "name": "ipython",
    "version": 3
   },
   "file_extension": ".py",
   "mimetype": "text/x-python",
   "name": "python",
   "nbconvert_exporter": "python",
   "pygments_lexer": "ipython3",
   "version": "3.8.8"
  }
 },
 "nbformat": 4,
 "nbformat_minor": 1
}
