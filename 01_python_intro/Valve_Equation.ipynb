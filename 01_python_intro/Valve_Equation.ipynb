{
  "nbformat": 4,
  "nbformat_minor": 0,
  "metadata": {
    "colab": {
      "name": "Valve Equation.ipynb",
      "provenance": [],
      "toc_visible": true
    },
    "kernelspec": {
      "name": "python3",
      "display_name": "Python 3"
    },
    "language_info": {
      "name": "python"
    }
  },
  "cells": [
    {
      "cell_type": "markdown",
      "source": [
        "## Introduction\n",
        "\n",
        "This objective of this notebook is to give a brief overview of Python for scientific purposes. There main Python libraries will be introduced, namely **Numpy**, **Matplotlib** and **Pandas**.\n",
        "\n",
        "The example we will be using will be based on the following simplified valve equation:\n",
        "\n",
        "$Q = OP \\times K \\sqrt{\\Delta P}$\n",
        "\n",
        "where: \n",
        "> $OP$ = valve opening (in fraction)\n",
        "\n",
        "> $K$ = valve conductance (kg.s$^{-1}$.bar$^{-0.5}$)\n",
        "\n",
        "> $\\Delta P$ = pressure drop (bar)"
      ],
      "metadata": {
        "id": "RZSD8kxAtX-p"
      }
    },
    {
      "cell_type": "markdown",
      "source": [
        "## Import Python libraries"
      ],
      "metadata": {
        "id": "C21cgdTeWX0Y"
      }
    },
    {
      "cell_type": "code",
      "execution_count": 1,
      "metadata": {
        "id": "1be0d0dFAts8"
      },
      "outputs": [],
      "source": [
        "import numpy as np\n",
        "import pandas as pd\n",
        "import matplotlib.pyplot as plt"
      ]
    },
    {
      "cell_type": "markdown",
      "source": [
        "## Using Python as a calculator\n",
        "\n",
        "\n",
        "\n",
        "We can use Python as a calculator to compute the valve equation. \n",
        "\n",
        "\n",
        "\n",
        "First let's assume $OP$, $K$, and $\\sqrt{\\Delta P}$:"
      ],
      "metadata": {
        "id": "PRtcDv1jC2FR"
      }
    },
    {
      "cell_type": "code",
      "source": [
        "op = 0.5 # fraction\n",
        "k = 5000 # kg.s^-1.bar^-0.5\n",
        "dp = 10 # bar"
      ],
      "metadata": {
        "id": "OGTaBq65CUJL"
      },
      "execution_count": 2,
      "outputs": []
    },
    {
      "cell_type": "markdown",
      "source": [
        "To calculate $Q$:"
      ],
      "metadata": {
        "id": "DVl14NjgOMaJ"
      }
    },
    {
      "cell_type": "code",
      "source": [
        "q = op * k * np.sqrt(dp)"
      ],
      "metadata": {
        "id": "LpXxukD8FT15"
      },
      "execution_count": 3,
      "outputs": []
    },
    {
      "cell_type": "markdown",
      "source": [
        "We can print the value of $Q$:"
      ],
      "metadata": {
        "id": "PgnW-EvgOVH6"
      }
    },
    {
      "cell_type": "code",
      "source": [
        "print('The flow value is = '+ str(q) +' kg/s')"
      ],
      "metadata": {
        "id": "lKCx8-qEOVyA",
        "colab": {
          "base_uri": "https://localhost:8080/"
        },
        "outputId": "75326bc2-2c78-4636-ab2d-0b74ad66d895"
      },
      "execution_count": 4,
      "outputs": [
        {
          "output_type": "stream",
          "name": "stdout",
          "text": [
            "The flow value is = 7905.694150420949 kg/s\n"
          ]
        }
      ]
    },
    {
      "cell_type": "markdown",
      "source": [
        "Here we use: \n",
        "\n",
        "1.   **cast** number to **string** (using `str`)\n",
        "2.   **concatenate** multiple strings (`+` symbol)\n",
        "3.   **print** statement to print **strings**\n",
        "\n"
      ],
      "metadata": {
        "id": "ocGXCVdAOj2K"
      }
    },
    {
      "cell_type": "markdown",
      "source": [
        "### Exercise\n",
        "\n",
        "1. Round up the $Q$ value to 2 significant figures."
      ],
      "metadata": {
        "id": "KkCNSoxUe2mq"
      }
    },
    {
      "cell_type": "code",
      "source": [
        "# your answer here"
      ],
      "metadata": {
        "id": "puWMdZWVfKec"
      },
      "execution_count": 5,
      "outputs": []
    },
    {
      "cell_type": "markdown",
      "source": [
        "## Working with data arrays in Numpy\n",
        "Create multiple pressure drop values using `np.linspace`:"
      ],
      "metadata": {
        "id": "84qg4tIFc8yq"
      }
    },
    {
      "cell_type": "code",
      "source": [
        "dps = np.linspace(0, 100, 11)\n",
        "dps"
      ],
      "metadata": {
        "colab": {
          "base_uri": "https://localhost:8080/"
        },
        "id": "8qzohR6FaI1R",
        "outputId": "db0643ac-28c6-4022-dc88-710a737f0865"
      },
      "execution_count": 6,
      "outputs": [
        {
          "output_type": "execute_result",
          "data": {
            "text/plain": [
              "array([  0.,  10.,  20.,  30.,  40.,  50.,  60.,  70.,  80.,  90., 100.])"
            ]
          },
          "metadata": {},
          "execution_count": 6
        }
      ]
    },
    {
      "cell_type": "markdown",
      "source": [
        "This is what we call a Numpy array.\n",
        "\n",
        "We can use the array directly in the valve equation. "
      ],
      "metadata": {
        "id": "dRsHxWA8dIi3"
      }
    },
    {
      "cell_type": "code",
      "source": [
        "qs = op * k * np.sqrt(dps)\n",
        "qs"
      ],
      "metadata": {
        "colab": {
          "base_uri": "https://localhost:8080/"
        },
        "id": "_PNBB6PDb90l",
        "outputId": "32908d20-2101-4363-c12d-b2265c0c91cd"
      },
      "execution_count": 7,
      "outputs": [
        {
          "output_type": "execute_result",
          "data": {
            "text/plain": [
              "array([    0.        ,  7905.69415042, 11180.3398875 , 13693.06393763,\n",
              "       15811.38830084, 17677.66952966, 19364.91673104, 20916.50066335,\n",
              "       22360.679775  , 23717.08245126, 25000.        ])"
            ]
          },
          "metadata": {},
          "execution_count": 7
        }
      ]
    },
    {
      "cell_type": "markdown",
      "source": [
        "### Exercise\n",
        "\n",
        "1. Using `np.arange`, create an an array for dps with values from 0 to 200 with equal spaces of 25."
      ],
      "metadata": {
        "id": "O3MPiLvUfmty"
      }
    },
    {
      "cell_type": "code",
      "source": [
        "# your answer here"
      ],
      "metadata": {
        "id": "BgwDeQ7sgX9T"
      },
      "execution_count": 8,
      "outputs": []
    },
    {
      "cell_type": "markdown",
      "source": [
        "## Visualise data using Matplotlib\n",
        "\n",
        "We can plot the result using `plt.plot`. For example to plot `qs` ($Q$) vs. `dps` ($\\Delta P$):"
      ],
      "metadata": {
        "id": "KeKdeW9vSO4H"
      }
    },
    {
      "cell_type": "code",
      "source": [
        "plt.plot(dps, qs, '-ro')"
      ],
      "metadata": {
        "colab": {
          "base_uri": "https://localhost:8080/",
          "height": 283
        },
        "id": "nZKVkw-aSbdx",
        "outputId": "daf20450-d915-42e6-abf2-00db60197e31"
      },
      "execution_count": 9,
      "outputs": [
        {
          "output_type": "execute_result",
          "data": {
            "text/plain": [
              "[<matplotlib.lines.Line2D at 0x7fcdb470b590>]"
            ]
          },
          "metadata": {},
          "execution_count": 9
        },
        {
          "output_type": "display_data",
          "data": {
            "image/png": "[encoded data removed]",
            "text/plain": [
              "<Figure size 432x288 with 1 Axes>"
            ]
          },
          "metadata": {
            "needs_background": "light"
          }
        }
      ]
    },
    {
      "cell_type": "markdown",
      "source": [
        "We save can the plot using `plt.savefig`:\n"
      ],
      "metadata": {
        "id": "lPRCNM15aM6A"
      }
    },
    {
      "cell_type": "code",
      "source": [
        "plt.plot(dps, qs, '-ro')\n",
        "plt.savefig('my_plt.png')"
      ],
      "metadata": {
        "colab": {
          "base_uri": "https://localhost:8080/",
          "height": 265
        },
        "id": "vHhVEnDJaUdB",
        "outputId": "a3807bfa-caa4-4ee1-81e9-7c27110bb86f"
      },
      "execution_count": 10,
      "outputs": [
        {
          "output_type": "display_data",
          "data": {
            "image/png": "[encoded data removed]",
            "text/plain": [
              "<Figure size 432x288 with 1 Axes>"
            ]
          },
          "metadata": {
            "needs_background": "light"
          }
        }
      ]
    },
    {
      "cell_type": "markdown",
      "source": [
        "### Exercise\n",
        "\n",
        "1. Change the markers to triangles, and change the color of the plot to green.\n",
        "2. Add labels on the x and y axes."
      ],
      "metadata": {
        "id": "jllVAmuNgyJX"
      }
    },
    {
      "cell_type": "code",
      "source": [
        "# your answer here"
      ],
      "metadata": {
        "id": "rVWPmEI5vIxt"
      },
      "execution_count": 11,
      "outputs": []
    },
    {
      "cell_type": "markdown",
      "source": [
        "## Reuse codes using **function**"
      ],
      "metadata": {
        "id": "PkDNDfQkS_eB"
      }
    },
    {
      "cell_type": "markdown",
      "source": [
        "\n",
        "What if we want to calculately q multiple time? for example, if we have two sets of $OP$ and $\\Delta P$:\n"
      ],
      "metadata": {
        "id": "z_NiTNqxC8aC"
      }
    },
    {
      "cell_type": "code",
      "source": [
        "op1, dp1 = 0.1, 10\n",
        "op2, dp2 = 0.5, 20"
      ],
      "metadata": {
        "id": "YZw4nKK_iIrZ"
      },
      "execution_count": 12,
      "outputs": []
    },
    {
      "cell_type": "markdown",
      "source": [
        "The easiest solution to find $Q$ for the two sets of data above is by repeating the calculation:"
      ],
      "metadata": {
        "id": "newgGs5Ji4ZW"
      }
    },
    {
      "cell_type": "code",
      "source": [
        "q1 = op1 * k * np.sqrt(dp1)\n",
        "q2 = op2 * k * np.sqrt(dp2)\n",
        "print(q1, q2)"
      ],
      "metadata": {
        "colab": {
          "base_uri": "https://localhost:8080/"
        },
        "id": "Hpn9I1xIh5GB",
        "outputId": "4e98d88a-21ea-4233-f09c-67fdc242d63d"
      },
      "execution_count": 13,
      "outputs": [
        {
          "output_type": "stream",
          "name": "stdout",
          "text": [
            "1581.1388300841897 11180.339887498949\n"
          ]
        }
      ]
    },
    {
      "cell_type": "markdown",
      "source": [
        "But what if we have a thousand sets of $OP$ and $\\Delta P$? Repeating the codes is probably not very efficient.\n",
        "\n",
        "\n",
        "We can organise related codes that can be called whenever needed by using a **function**:"
      ],
      "metadata": {
        "id": "YEHdmKjWjIOR"
      }
    },
    {
      "cell_type": "code",
      "source": [
        "def valve_flow(dp, op, k):\n",
        "    \n",
        "    print('Starting flow calculation for dp='+ str(dp), ', op='+ str(op)+', k='+str(k))\n",
        "    q = op * k * np.sqrt(dp)\n",
        "    print('Calculation finished')\n",
        "    \n",
        "    return q"
      ],
      "metadata": {
        "id": "a0CHPcCnA546"
      },
      "execution_count": 14,
      "outputs": []
    },
    {
      "cell_type": "markdown",
      "source": [
        "Once defined, the function can be called to perform the computations: "
      ],
      "metadata": {
        "id": "b4_pP4bvkHYp"
      }
    },
    {
      "cell_type": "code",
      "source": [
        "q1 = valve_flow(dp1, op1, k)\n",
        "print(q1)"
      ],
      "metadata": {
        "colab": {
          "base_uri": "https://localhost:8080/"
        },
        "id": "MwakhhnCjzaP",
        "outputId": "51174cfd-9251-47a9-c839-8fcf232f7943"
      },
      "execution_count": 15,
      "outputs": [
        {
          "output_type": "stream",
          "name": "stdout",
          "text": [
            "Starting flow calculation for dp=10 , op=0.1, k=5000\n",
            "Calculation finished\n",
            "1581.1388300841897\n"
          ]
        }
      ]
    },
    {
      "cell_type": "markdown",
      "source": [
        "### Exercise\n",
        "1. Write a function called `squared` that receives a variable `x` and returns the squared value of `x` (called `x_squared`)."
      ],
      "metadata": {
        "id": "DT-wAIuZH8Oi"
      }
    },
    {
      "cell_type": "code",
      "source": [
        "# your answer here"
      ],
      "metadata": {
        "id": "4PZNVoadmMk6"
      },
      "execution_count": 16,
      "outputs": []
    },
    {
      "cell_type": "markdown",
      "source": [
        "## Perform repetitive operations using `for` loops"
      ],
      "metadata": {
        "id": "LddwmodnV2pZ"
      }
    },
    {
      "cell_type": "markdown",
      "source": [
        "What if we want to similar operation for muiltple times? For example, we might want to calculate $Q$ for $OP$ = 0.3, 0.6, 0.9 and plot $Q$ vs. $OP$ everytime we perform the claculation. This can be done using `for` loop:"
      ],
      "metadata": {
        "id": "0XQICO3nmoj5"
      }
    },
    {
      "cell_type": "code",
      "source": [
        "for op in [0.3, 0.6, 0.9]:\n",
        "  \n",
        "  q = valve_flow(dp, op, k)\n",
        "\n",
        "  plt.scatter(op, q)\n"
      ],
      "metadata": {
        "colab": {
          "base_uri": "https://localhost:8080/",
          "height": 369
        },
        "id": "hzgsRx6VG3QB",
        "outputId": "6c2d5357-908a-4ba9-88ab-f25793212bfb"
      },
      "execution_count": 17,
      "outputs": [
        {
          "output_type": "stream",
          "name": "stdout",
          "text": [
            "Starting flow calculation for dp=10 , op=0.3, k=5000\n",
            "Calculation finished\n",
            "Starting flow calculation for dp=10 , op=0.6, k=5000\n",
            "Calculation finished\n",
            "Starting flow calculation for dp=10 , op=0.9, k=5000\n",
            "Calculation finished\n"
          ]
        },
        {
          "output_type": "display_data",
          "data": {
            "image/png": "[encoded data removed]",
            "text/plain": [
              "<Figure size 432x288 with 1 Axes>"
            ]
          },
          "metadata": {
            "needs_background": "light"
          }
        }
      ]
    },
    {
      "cell_type": "markdown",
      "source": [
        "### Exercise\n",
        "1. Create arrays of $OP$, $\\Delta P$, and $K$ as shown below. Then create a nested loop to calculate all the possible combinations of $OP$, $\\Delta P$, and $K$.\n",
        "\n",
        "`openings = np.linspace(0, 1, 5)`\n",
        "\n",
        "`dps = np.linspace(0, 200, 5)`\n",
        "\n",
        "`ks = np.linspace(0, 100000, 5)`\n"
      ],
      "metadata": {
        "id": "9HjPYGILE0rZ"
      }
    },
    {
      "cell_type": "code",
      "source": [
        "# your answer here"
      ],
      "metadata": {
        "id": "nhOMj2ZbA_YR"
      },
      "execution_count": 18,
      "outputs": []
    },
    {
      "cell_type": "markdown",
      "source": [
        "## Working with tabular data in Pandas\n",
        "\n",
        "How to create a empty table?\n",
        "\n",
        "We can use a Pandas **DataFrame**:"
      ],
      "metadata": {
        "id": "E6jj47QVEbCi"
      }
    },
    {
      "cell_type": "code",
      "source": [
        "data = pd.DataFrame(columns=['k', 'op', 'dp', 'q'])\n",
        "data"
      ],
      "metadata": {
        "colab": {
          "base_uri": "https://localhost:8080/",
          "height": 49
        },
        "id": "8m1xN7dQEjOi",
        "outputId": "22eec079-65af-453a-c4b4-11ad99e600df"
      },
      "execution_count": 19,
      "outputs": [
        {
          "output_type": "execute_result",
          "data": {
            "text/html": [
              "\n",
              "  <div id=\"df-8f5aa293-ce62-4d6b-b5a0-8b3606079e87\">\n",
              "    <div class=\"colab-df-container\">\n",
              "      <div>\n",
              "<style scoped>\n",
              "    .dataframe tbody tr th:only-of-type {\n",
              "        vertical-align: middle;\n",
              "    }\n",
              "\n",
              "    .dataframe tbody tr th {\n",
              "        vertical-align: top;\n",
              "    }\n",
              "\n",
              "    .dataframe thead th {\n",
              "        text-align: right;\n",
              "    }\n",
              "</style>\n",
              "<table border=\"1\" class=\"dataframe\">\n",
              "  <thead>\n",
              "    <tr style=\"text-align: right;\">\n",
              "      <th></th>\n",
              "      <th>k</th>\n",
              "      <th>op</th>\n",
              "      <th>dp</th>\n",
              "      <th>q</th>\n",
              "    </tr>\n",
              "  </thead>\n",
              "  <tbody>\n",
              "  </tbody>\n",
              "</table>\n",
              "</div>\n",
              "      <button class=\"colab-df-convert\" onclick=\"convertToInteractive('df-8f5aa293-ce62-4d6b-b5a0-8b3606079e87')\"\n",
              "              title=\"Convert this dataframe to an interactive table.\"\n",
              "              style=\"display:none;\">\n",
              "        \n",
              "  <svg xmlns=\"http://www.w3.org/2000/svg\" height=\"24px\"viewBox=\"0 0 24 24\"\n",
              "       width=\"24px\">\n",
              "    <path d=\"M0 0h24v24H0V0z\" fill=\"none\"/>\n",
              "    <path d=\"M18.56 5.44l.94 2.06.94-2.06 2.06-.94-2.06-.94-.94-2.06-.94 2.06-2.06.94zm-11 1L8.5 8.5l.94-2.06 2.06-.94-2.06-.94L8.5 2.5l-.94 2.06-2.06.94zm10 10l.94 2.06.94-2.06 2.06-.94-2.06-.94-.94-2.06-.94 2.06-2.06.94z\"/><path d=\"M17.41 7.96l-1.37-1.37c-.4-.4-.92-.59-1.43-.59-.52 0-1.04.2-1.43.59L10.3 9.45l-7.72 7.72c-.78.78-.78 2.05 0 2.83L4 21.41c.39.39.9.59 1.41.59.51 0 1.02-.2 1.41-.59l7.78-7.78 2.81-2.81c.8-.78.8-2.07 0-2.86zM5.41 20L4 18.59l7.72-7.72 1.47 1.35L5.41 20z\"/>\n",
              "  </svg>\n",
              "      </button>\n",
              "      \n",
              "  <style>\n",
              "    .colab-df-container {\n",
              "      display:flex;\n",
              "      flex-wrap:wrap;\n",
              "      gap: 12px;\n",
              "    }\n",
              "\n",
              "    .colab-df-convert {\n",
              "      background-color: #E8F0FE;\n",
              "      border: none;\n",
              "      border-radius: 50%;\n",
              "      cursor: pointer;\n",
              "      display: none;\n",
              "      fill: #1967D2;\n",
              "      height: 32px;\n",
              "      padding: 0 0 0 0;\n",
              "      width: 32px;\n",
              "    }\n",
              "\n",
              "    .colab-df-convert:hover {\n",
              "      background-color: #E2EBFA;\n",
              "      box-shadow: 0px 1px 2px rgba(60, 64, 67, 0.3), 0px 1px 3px 1px rgba(60, 64, 67, 0.15);\n",
              "      fill: #174EA6;\n",
              "    }\n",
              "\n",
              "    [theme=dark] .colab-df-convert {\n",
              "      background-color: #3B4455;\n",
              "      fill: #D2E3FC;\n",
              "    }\n",
              "\n",
              "    [theme=dark] .colab-df-convert:hover {\n",
              "      background-color: #434B5C;\n",
              "      box-shadow: 0px 1px 3px 1px rgba(0, 0, 0, 0.15);\n",
              "      filter: drop-shadow(0px 1px 2px rgba(0, 0, 0, 0.3));\n",
              "      fill: #FFFFFF;\n",
              "    }\n",
              "  </style>\n",
              "\n",
              "      <script>\n",
              "        const buttonEl =\n",
              "          document.querySelector('#df-8f5aa293-ce62-4d6b-b5a0-8b3606079e87 button.colab-df-convert');\n",
              "        buttonEl.style.display =\n",
              "          google.colab.kernel.accessAllowed ? 'block' : 'none';\n",
              "\n",
              "        async function convertToInteractive(key) {\n",
              "          const element = document.querySelector('#df-8f5aa293-ce62-4d6b-b5a0-8b3606079e87');\n",
              "          const dataTable =\n",
              "            await google.colab.kernel.invokeFunction('convertToInteractive',\n",
              "                                                     [key], {});\n",
              "          if (!dataTable) return;\n",
              "\n",
              "          const docLinkHtml = 'Like what you see? Visit the ' +\n",
              "            '<a target=\"_blank\" href=https://colab.research.google.com/notebooks/data_table.ipynb>data table notebook</a>'\n",
              "            + ' to learn more about interactive tables.';\n",
              "          element.innerHTML = '';\n",
              "          dataTable['output_type'] = 'display_data';\n",
              "          await google.colab.output.renderOutput(dataTable, element);\n",
              "          const docLink = document.createElement('div');\n",
              "          docLink.innerHTML = docLinkHtml;\n",
              "          element.appendChild(docLink);\n",
              "        }\n",
              "      </script>\n",
              "    </div>\n",
              "  </div>\n",
              "  "
            ],
            "text/plain": [
              "Empty DataFrame\n",
              "Columns: [k, op, dp, q]\n",
              "Index: []"
            ]
          },
          "metadata": {},
          "execution_count": 19
        }
      ]
    },
    {
      "cell_type": "markdown",
      "source": [
        "Let's first redefine the values for $OP$, $\\Delta P$ and $K$:"
      ],
      "metadata": {
        "id": "oDedmmq0p224"
      }
    },
    {
      "cell_type": "code",
      "source": [
        "openings = np.linspace(0, 1, 5)\n",
        "dps = np.linspace(0, 200, 5)\n",
        "ks = np.linspace(0, 100000, 5)"
      ],
      "metadata": {
        "id": "dXcU7qsOp7Bt"
      },
      "execution_count": 20,
      "outputs": []
    },
    {
      "cell_type": "markdown",
      "source": [
        "We can perform a nested loop to calculate $Q$ for all the possible combinations of $OP$, $\\Delta P$ and $K$, and store the data in the DataFrame."
      ],
      "metadata": {
        "id": "mG8cWG6Jq5q8"
      }
    },
    {
      "cell_type": "code",
      "source": [
        "for op in openings:\n",
        "    for dp in dps:\n",
        "        for k in ks:\n",
        "            q = valve_flow(dp, op, k)\n",
        "            #print(op, dp, k, q)\n",
        "            \n",
        "            data.loc[len(data)] = [k, op, dp, q]"
      ],
      "metadata": {
        "id": "XWtnH-_DEp-D",
        "colab": {
          "base_uri": "https://localhost:8080/"
        },
        "outputId": "998e7f87-d1b7-4960-c49b-53cfbaf691ee"
      },
      "execution_count": 21,
      "outputs": [
        {
          "output_type": "stream",
          "name": "stdout",
          "text": [
            "Starting flow calculation for dp=0.0 , op=0.0, k=0.0\n",
            "Calculation finished\n",
            "Starting flow calculation for dp=0.0 , op=0.0, k=25000.0\n",
            "Calculation finished\n",
            "Starting flow calculation for dp=0.0 , op=0.0, k=50000.0\n",
            "Calculation finished\n",
            "Starting flow calculation for dp=0.0 , op=0.0, k=75000.0\n",
            "Calculation finished\n",
            "Starting flow calculation for dp=0.0 , op=0.0, k=100000.0\n",
            "Calculation finished\n",
            "Starting flow calculation for dp=50.0 , op=0.0, k=0.0\n",
            "Calculation finished\n",
            "Starting flow calculation for dp=50.0 , op=0.0, k=25000.0\n",
            "Calculation finished\n",
            "Starting flow calculation for dp=50.0 , op=0.0, k=50000.0\n",
            "Calculation finished\n",
            "Starting flow calculation for dp=50.0 , op=0.0, k=75000.0\n",
            "Calculation finished\n",
            "Starting flow calculation for dp=50.0 , op=0.0, k=100000.0\n",
            "Calculation finished\n",
            "Starting flow calculation for dp=100.0 , op=0.0, k=0.0\n",
            "Calculation finished\n",
            "Starting flow calculation for dp=100.0 , op=0.0, k=25000.0\n",
            "Calculation finished\n",
            "Starting flow calculation for dp=100.0 , op=0.0, k=50000.0\n",
            "Calculation finished\n",
            "Starting flow calculation for dp=100.0 , op=0.0, k=75000.0\n",
            "Calculation finished\n",
            "Starting flow calculation for dp=100.0 , op=0.0, k=100000.0\n",
            "Calculation finished\n",
            "Starting flow calculation for dp=150.0 , op=0.0, k=0.0\n",
            "Calculation finished\n",
            "Starting flow calculation for dp=150.0 , op=0.0, k=25000.0\n",
            "Calculation finished\n",
            "Starting flow calculation for dp=150.0 , op=0.0, k=50000.0\n",
            "Calculation finished\n",
            "Starting flow calculation for dp=150.0 , op=0.0, k=75000.0\n",
            "Calculation finished\n",
            "Starting flow calculation for dp=150.0 , op=0.0, k=100000.0\n",
            "Calculation finished\n",
            "Starting flow calculation for dp=200.0 , op=0.0, k=0.0\n",
            "Calculation finished\n",
            "Starting flow calculation for dp=200.0 , op=0.0, k=25000.0\n",
            "Calculation finished\n",
            "Starting flow calculation for dp=200.0 , op=0.0, k=50000.0\n",
            "Calculation finished\n",
            "Starting flow calculation for dp=200.0 , op=0.0, k=75000.0\n",
            "Calculation finished\n",
            "Starting flow calculation for dp=200.0 , op=0.0, k=100000.0\n",
            "Calculation finished\n",
            "Starting flow calculation for dp=0.0 , op=0.25, k=0.0\n",
            "Calculation finished\n",
            "Starting flow calculation for dp=0.0 , op=0.25, k=25000.0\n",
            "Calculation finished\n",
            "Starting flow calculation for dp=0.0 , op=0.25, k=50000.0\n",
            "Calculation finished\n",
            "Starting flow calculation for dp=0.0 , op=0.25, k=75000.0\n",
            "Calculation finished\n",
            "Starting flow calculation for dp=0.0 , op=0.25, k=100000.0\n",
            "Calculation finished\n",
            "Starting flow calculation for dp=50.0 , op=0.25, k=0.0\n",
            "Calculation finished\n",
            "Starting flow calculation for dp=50.0 , op=0.25, k=25000.0\n",
            "Calculation finished\n",
            "Starting flow calculation for dp=50.0 , op=0.25, k=50000.0\n",
            "Calculation finished\n",
            "Starting flow calculation for dp=50.0 , op=0.25, k=75000.0\n",
            "Calculation finished\n",
            "Starting flow calculation for dp=50.0 , op=0.25, k=100000.0\n",
            "Calculation finished\n",
            "Starting flow calculation for dp=100.0 , op=0.25, k=0.0\n",
            "Calculation finished\n",
            "Starting flow calculation for dp=100.0 , op=0.25, k=25000.0\n",
            "Calculation finished\n",
            "Starting flow calculation for dp=100.0 , op=0.25, k=50000.0\n",
            "Calculation finished\n",
            "Starting flow calculation for dp=100.0 , op=0.25, k=75000.0\n",
            "Calculation finished\n",
            "Starting flow calculation for dp=100.0 , op=0.25, k=100000.0\n",
            "Calculation finished\n",
            "Starting flow calculation for dp=150.0 , op=0.25, k=0.0\n",
            "Calculation finished\n",
            "Starting flow calculation for dp=150.0 , op=0.25, k=25000.0\n",
            "Calculation finished\n",
            "Starting flow calculation for dp=150.0 , op=0.25, k=50000.0\n",
            "Calculation finished\n",
            "Starting flow calculation for dp=150.0 , op=0.25, k=75000.0\n",
            "Calculation finished\n",
            "Starting flow calculation for dp=150.0 , op=0.25, k=100000.0\n",
            "Calculation finished\n",
            "Starting flow calculation for dp=200.0 , op=0.25, k=0.0\n",
            "Calculation finished\n",
            "Starting flow calculation for dp=200.0 , op=0.25, k=25000.0\n",
            "Calculation finished\n",
            "Starting flow calculation for dp=200.0 , op=0.25, k=50000.0\n",
            "Calculation finished\n",
            "Starting flow calculation for dp=200.0 , op=0.25, k=75000.0\n",
            "Calculation finished\n",
            "Starting flow calculation for dp=200.0 , op=0.25, k=100000.0\n",
            "Calculation finished\n",
            "Starting flow calculation for dp=0.0 , op=0.5, k=0.0\n",
            "Calculation finished\n",
            "Starting flow calculation for dp=0.0 , op=0.5, k=25000.0\n",
            "Calculation finished\n",
            "Starting flow calculation for dp=0.0 , op=0.5, k=50000.0\n",
            "Calculation finished\n",
            "Starting flow calculation for dp=0.0 , op=0.5, k=75000.0\n",
            "Calculation finished\n",
            "Starting flow calculation for dp=0.0 , op=0.5, k=100000.0\n",
            "Calculation finished\n",
            "Starting flow calculation for dp=50.0 , op=0.5, k=0.0\n",
            "Calculation finished\n",
            "Starting flow calculation for dp=50.0 , op=0.5, k=25000.0\n",
            "Calculation finished\n",
            "Starting flow calculation for dp=50.0 , op=0.5, k=50000.0\n",
            "Calculation finished\n",
            "Starting flow calculation for dp=50.0 , op=0.5, k=75000.0\n",
            "Calculation finished\n",
            "Starting flow calculation for dp=50.0 , op=0.5, k=100000.0\n",
            "Calculation finished\n",
            "Starting flow calculation for dp=100.0 , op=0.5, k=0.0\n",
            "Calculation finished\n",
            "Starting flow calculation for dp=100.0 , op=0.5, k=25000.0\n",
            "Calculation finished\n",
            "Starting flow calculation for dp=100.0 , op=0.5, k=50000.0\n",
            "Calculation finished\n",
            "Starting flow calculation for dp=100.0 , op=0.5, k=75000.0\n",
            "Calculation finished\n",
            "Starting flow calculation for dp=100.0 , op=0.5, k=100000.0\n",
            "Calculation finished\n",
            "Starting flow calculation for dp=150.0 , op=0.5, k=0.0\n",
            "Calculation finished\n",
            "Starting flow calculation for dp=150.0 , op=0.5, k=25000.0\n",
            "Calculation finished\n",
            "Starting flow calculation for dp=150.0 , op=0.5, k=50000.0\n",
            "Calculation finished\n",
            "Starting flow calculation for dp=150.0 , op=0.5, k=75000.0\n",
            "Calculation finished\n",
            "Starting flow calculation for dp=150.0 , op=0.5, k=100000.0\n",
            "Calculation finished\n",
            "Starting flow calculation for dp=200.0 , op=0.5, k=0.0\n",
            "Calculation finished\n",
            "Starting flow calculation for dp=200.0 , op=0.5, k=25000.0\n",
            "Calculation finished\n",
            "Starting flow calculation for dp=200.0 , op=0.5, k=50000.0\n",
            "Calculation finished\n",
            "Starting flow calculation for dp=200.0 , op=0.5, k=75000.0\n",
            "Calculation finished\n",
            "Starting flow calculation for dp=200.0 , op=0.5, k=100000.0\n",
            "Calculation finished\n",
            "Starting flow calculation for dp=0.0 , op=0.75, k=0.0\n",
            "Calculation finished\n",
            "Starting flow calculation for dp=0.0 , op=0.75, k=25000.0\n",
            "Calculation finished\n",
            "Starting flow calculation for dp=0.0 , op=0.75, k=50000.0\n",
            "Calculation finished\n",
            "Starting flow calculation for dp=0.0 , op=0.75, k=75000.0\n",
            "Calculation finished\n",
            "Starting flow calculation for dp=0.0 , op=0.75, k=100000.0\n",
            "Calculation finished\n",
            "Starting flow calculation for dp=50.0 , op=0.75, k=0.0\n",
            "Calculation finished\n",
            "Starting flow calculation for dp=50.0 , op=0.75, k=25000.0\n",
            "Calculation finished\n",
            "Starting flow calculation for dp=50.0 , op=0.75, k=50000.0\n",
            "Calculation finished\n",
            "Starting flow calculation for dp=50.0 , op=0.75, k=75000.0\n",
            "Calculation finished\n",
            "Starting flow calculation for dp=50.0 , op=0.75, k=100000.0\n",
            "Calculation finished\n",
            "Starting flow calculation for dp=100.0 , op=0.75, k=0.0\n",
            "Calculation finished\n",
            "Starting flow calculation for dp=100.0 , op=0.75, k=25000.0\n",
            "Calculation finished\n",
            "Starting flow calculation for dp=100.0 , op=0.75, k=50000.0\n",
            "Calculation finished\n",
            "Starting flow calculation for dp=100.0 , op=0.75, k=75000.0\n",
            "Calculation finished\n",
            "Starting flow calculation for dp=100.0 , op=0.75, k=100000.0\n",
            "Calculation finished\n",
            "Starting flow calculation for dp=150.0 , op=0.75, k=0.0\n",
            "Calculation finished\n",
            "Starting flow calculation for dp=150.0 , op=0.75, k=25000.0\n",
            "Calculation finished\n",
            "Starting flow calculation for dp=150.0 , op=0.75, k=50000.0\n",
            "Calculation finished\n",
            "Starting flow calculation for dp=150.0 , op=0.75, k=75000.0\n",
            "Calculation finished\n",
            "Starting flow calculation for dp=150.0 , op=0.75, k=100000.0\n",
            "Calculation finished\n",
            "Starting flow calculation for dp=200.0 , op=0.75, k=0.0\n",
            "Calculation finished\n",
            "Starting flow calculation for dp=200.0 , op=0.75, k=25000.0\n",
            "Calculation finished\n",
            "Starting flow calculation for dp=200.0 , op=0.75, k=50000.0\n",
            "Calculation finished\n",
            "Starting flow calculation for dp=200.0 , op=0.75, k=75000.0\n",
            "Calculation finished\n",
            "Starting flow calculation for dp=200.0 , op=0.75, k=100000.0\n",
            "Calculation finished\n",
            "Starting flow calculation for dp=0.0 , op=1.0, k=0.0\n",
            "Calculation finished\n",
            "Starting flow calculation for dp=0.0 , op=1.0, k=25000.0\n",
            "Calculation finished\n",
            "Starting flow calculation for dp=0.0 , op=1.0, k=50000.0\n",
            "Calculation finished\n",
            "Starting flow calculation for dp=0.0 , op=1.0, k=75000.0\n",
            "Calculation finished\n",
            "Starting flow calculation for dp=0.0 , op=1.0, k=100000.0\n",
            "Calculation finished\n",
            "Starting flow calculation for dp=50.0 , op=1.0, k=0.0\n",
            "Calculation finished\n",
            "Starting flow calculation for dp=50.0 , op=1.0, k=25000.0\n",
            "Calculation finished\n",
            "Starting flow calculation for dp=50.0 , op=1.0, k=50000.0\n",
            "Calculation finished\n",
            "Starting flow calculation for dp=50.0 , op=1.0, k=75000.0\n",
            "Calculation finished\n",
            "Starting flow calculation for dp=50.0 , op=1.0, k=100000.0\n",
            "Calculation finished\n",
            "Starting flow calculation for dp=100.0 , op=1.0, k=0.0\n",
            "Calculation finished\n",
            "Starting flow calculation for dp=100.0 , op=1.0, k=25000.0\n",
            "Calculation finished\n",
            "Starting flow calculation for dp=100.0 , op=1.0, k=50000.0\n",
            "Calculation finished\n",
            "Starting flow calculation for dp=100.0 , op=1.0, k=75000.0\n",
            "Calculation finished\n",
            "Starting flow calculation for dp=100.0 , op=1.0, k=100000.0\n",
            "Calculation finished\n",
            "Starting flow calculation for dp=150.0 , op=1.0, k=0.0\n",
            "Calculation finished\n",
            "Starting flow calculation for dp=150.0 , op=1.0, k=25000.0\n",
            "Calculation finished\n",
            "Starting flow calculation for dp=150.0 , op=1.0, k=50000.0\n",
            "Calculation finished\n",
            "Starting flow calculation for dp=150.0 , op=1.0, k=75000.0\n",
            "Calculation finished\n",
            "Starting flow calculation for dp=150.0 , op=1.0, k=100000.0\n",
            "Calculation finished\n",
            "Starting flow calculation for dp=200.0 , op=1.0, k=0.0\n",
            "Calculation finished\n",
            "Starting flow calculation for dp=200.0 , op=1.0, k=25000.0\n",
            "Calculation finished\n",
            "Starting flow calculation for dp=200.0 , op=1.0, k=50000.0\n",
            "Calculation finished\n",
            "Starting flow calculation for dp=200.0 , op=1.0, k=75000.0\n",
            "Calculation finished\n",
            "Starting flow calculation for dp=200.0 , op=1.0, k=100000.0\n",
            "Calculation finished\n"
          ]
        }
      ]
    },
    {
      "cell_type": "code",
      "source": [
        "data"
      ],
      "metadata": {
        "colab": {
          "base_uri": "https://localhost:8080/",
          "height": 424
        },
        "id": "xfQIsWTQBJLq",
        "outputId": "af0df7ad-e912-4763-d911-9fce15750936"
      },
      "execution_count": 22,
      "outputs": [
        {
          "output_type": "execute_result",
          "data": {
            "text/html": [
              "\n",
              "  <div id=\"df-96922e0e-567e-4d56-8662-8e16f919a0fd\">\n",
              "    <div class=\"colab-df-container\">\n",
              "      <div>\n",
              "<style scoped>\n",
              "    .dataframe tbody tr th:only-of-type {\n",
              "        vertical-align: middle;\n",
              "    }\n",
              "\n",
              "    .dataframe tbody tr th {\n",
              "        vertical-align: top;\n",
              "    }\n",
              "\n",
              "    .dataframe thead th {\n",
              "        text-align: right;\n",
              "    }\n",
              "</style>\n",
              "<table border=\"1\" class=\"dataframe\">\n",
              "  <thead>\n",
              "    <tr style=\"text-align: right;\">\n",
              "      <th></th>\n",
              "      <th>k</th>\n",
              "      <th>op</th>\n",
              "      <th>dp</th>\n",
              "      <th>q</th>\n",
              "    </tr>\n",
              "  </thead>\n",
              "  <tbody>\n",
              "    <tr>\n",
              "      <th>0</th>\n",
              "      <td>0.0</td>\n",
              "      <td>0.0</td>\n",
              "      <td>0.0</td>\n",
              "      <td>0.000000e+00</td>\n",
              "    </tr>\n",
              "    <tr>\n",
              "      <th>1</th>\n",
              "      <td>25000.0</td>\n",
              "      <td>0.0</td>\n",
              "      <td>0.0</td>\n",
              "      <td>0.000000e+00</td>\n",
              "    </tr>\n",
              "    <tr>\n",
              "      <th>2</th>\n",
              "      <td>50000.0</td>\n",
              "      <td>0.0</td>\n",
              "      <td>0.0</td>\n",
              "      <td>0.000000e+00</td>\n",
              "    </tr>\n",
              "    <tr>\n",
              "      <th>3</th>\n",
              "      <td>75000.0</td>\n",
              "      <td>0.0</td>\n",
              "      <td>0.0</td>\n",
              "      <td>0.000000e+00</td>\n",
              "    </tr>\n",
              "    <tr>\n",
              "      <th>4</th>\n",
              "      <td>100000.0</td>\n",
              "      <td>0.0</td>\n",
              "      <td>0.0</td>\n",
              "      <td>0.000000e+00</td>\n",
              "    </tr>\n",
              "    <tr>\n",
              "      <th>...</th>\n",
              "      <td>...</td>\n",
              "      <td>...</td>\n",
              "      <td>...</td>\n",
              "      <td>...</td>\n",
              "    </tr>\n",
              "    <tr>\n",
              "      <th>120</th>\n",
              "      <td>0.0</td>\n",
              "      <td>1.0</td>\n",
              "      <td>200.0</td>\n",
              "      <td>0.000000e+00</td>\n",
              "    </tr>\n",
              "    <tr>\n",
              "      <th>121</th>\n",
              "      <td>25000.0</td>\n",
              "      <td>1.0</td>\n",
              "      <td>200.0</td>\n",
              "      <td>3.535534e+05</td>\n",
              "    </tr>\n",
              "    <tr>\n",
              "      <th>122</th>\n",
              "      <td>50000.0</td>\n",
              "      <td>1.0</td>\n",
              "      <td>200.0</td>\n",
              "      <td>7.071068e+05</td>\n",
              "    </tr>\n",
              "    <tr>\n",
              "      <th>123</th>\n",
              "      <td>75000.0</td>\n",
              "      <td>1.0</td>\n",
              "      <td>200.0</td>\n",
              "      <td>1.060660e+06</td>\n",
              "    </tr>\n",
              "    <tr>\n",
              "      <th>124</th>\n",
              "      <td>100000.0</td>\n",
              "      <td>1.0</td>\n",
              "      <td>200.0</td>\n",
              "      <td>1.414214e+06</td>\n",
              "    </tr>\n",
              "  </tbody>\n",
              "</table>\n",
              "<p>125 rows × 4 columns</p>\n",
              "</div>\n",
              "      <button class=\"colab-df-convert\" onclick=\"convertToInteractive('df-96922e0e-567e-4d56-8662-8e16f919a0fd')\"\n",
              "              title=\"Convert this dataframe to an interactive table.\"\n",
              "              style=\"display:none;\">\n",
              "        \n",
              "  <svg xmlns=\"http://www.w3.org/2000/svg\" height=\"24px\"viewBox=\"0 0 24 24\"\n",
              "       width=\"24px\">\n",
              "    <path d=\"M0 0h24v24H0V0z\" fill=\"none\"/>\n",
              "    <path d=\"M18.56 5.44l.94 2.06.94-2.06 2.06-.94-2.06-.94-.94-2.06-.94 2.06-2.06.94zm-11 1L8.5 8.5l.94-2.06 2.06-.94-2.06-.94L8.5 2.5l-.94 2.06-2.06.94zm10 10l.94 2.06.94-2.06 2.06-.94-2.06-.94-.94-2.06-.94 2.06-2.06.94z\"/><path d=\"M17.41 7.96l-1.37-1.37c-.4-.4-.92-.59-1.43-.59-.52 0-1.04.2-1.43.59L10.3 9.45l-7.72 7.72c-.78.78-.78 2.05 0 2.83L4 21.41c.39.39.9.59 1.41.59.51 0 1.02-.2 1.41-.59l7.78-7.78 2.81-2.81c.8-.78.8-2.07 0-2.86zM5.41 20L4 18.59l7.72-7.72 1.47 1.35L5.41 20z\"/>\n",
              "  </svg>\n",
              "      </button>\n",
              "      \n",
              "  <style>\n",
              "    .colab-df-container {\n",
              "      display:flex;\n",
              "      flex-wrap:wrap;\n",
              "      gap: 12px;\n",
              "    }\n",
              "\n",
              "    .colab-df-convert {\n",
              "      background-color: #E8F0FE;\n",
              "      border: none;\n",
              "      border-radius: 50%;\n",
              "      cursor: pointer;\n",
              "      display: none;\n",
              "      fill: #1967D2;\n",
              "      height: 32px;\n",
              "      padding: 0 0 0 0;\n",
              "      width: 32px;\n",
              "    }\n",
              "\n",
              "    .colab-df-convert:hover {\n",
              "      background-color: #E2EBFA;\n",
              "      box-shadow: 0px 1px 2px rgba(60, 64, 67, 0.3), 0px 1px 3px 1px rgba(60, 64, 67, 0.15);\n",
              "      fill: #174EA6;\n",
              "    }\n",
              "\n",
              "    [theme=dark] .colab-df-convert {\n",
              "      background-color: #3B4455;\n",
              "      fill: #D2E3FC;\n",
              "    }\n",
              "\n",
              "    [theme=dark] .colab-df-convert:hover {\n",
              "      background-color: #434B5C;\n",
              "      box-shadow: 0px 1px 3px 1px rgba(0, 0, 0, 0.15);\n",
              "      filter: drop-shadow(0px 1px 2px rgba(0, 0, 0, 0.3));\n",
              "      fill: #FFFFFF;\n",
              "    }\n",
              "  </style>\n",
              "\n",
              "      <script>\n",
              "        const buttonEl =\n",
              "          document.querySelector('#df-96922e0e-567e-4d56-8662-8e16f919a0fd button.colab-df-convert');\n",
              "        buttonEl.style.display =\n",
              "          google.colab.kernel.accessAllowed ? 'block' : 'none';\n",
              "\n",
              "        async function convertToInteractive(key) {\n",
              "          const element = document.querySelector('#df-96922e0e-567e-4d56-8662-8e16f919a0fd');\n",
              "          const dataTable =\n",
              "            await google.colab.kernel.invokeFunction('convertToInteractive',\n",
              "                                                     [key], {});\n",
              "          if (!dataTable) return;\n",
              "\n",
              "          const docLinkHtml = 'Like what you see? Visit the ' +\n",
              "            '<a target=\"_blank\" href=https://colab.research.google.com/notebooks/data_table.ipynb>data table notebook</a>'\n",
              "            + ' to learn more about interactive tables.';\n",
              "          element.innerHTML = '';\n",
              "          dataTable['output_type'] = 'display_data';\n",
              "          await google.colab.output.renderOutput(dataTable, element);\n",
              "          const docLink = document.createElement('div');\n",
              "          docLink.innerHTML = docLinkHtml;\n",
              "          element.appendChild(docLink);\n",
              "        }\n",
              "      </script>\n",
              "    </div>\n",
              "  </div>\n",
              "  "
            ],
            "text/plain": [
              "            k   op     dp             q\n",
              "0         0.0  0.0    0.0  0.000000e+00\n",
              "1     25000.0  0.0    0.0  0.000000e+00\n",
              "2     50000.0  0.0    0.0  0.000000e+00\n",
              "3     75000.0  0.0    0.0  0.000000e+00\n",
              "4    100000.0  0.0    0.0  0.000000e+00\n",
              "..        ...  ...    ...           ...\n",
              "120       0.0  1.0  200.0  0.000000e+00\n",
              "121   25000.0  1.0  200.0  3.535534e+05\n",
              "122   50000.0  1.0  200.0  7.071068e+05\n",
              "123   75000.0  1.0  200.0  1.060660e+06\n",
              "124  100000.0  1.0  200.0  1.414214e+06\n",
              "\n",
              "[125 rows x 4 columns]"
            ]
          },
          "metadata": {},
          "execution_count": 22
        }
      ]
    },
    {
      "cell_type": "markdown",
      "source": [
        "### Exercise\n",
        "\n",
        "1. Using `.to_csv` method, export the DataFrame to a comma-separated values file (csv) called `my_data.csv`. Once you have done this, check if the csv file is saved in your working folder."
      ],
      "metadata": {
        "id": "V9tz-yK1QaNi"
      }
    },
    {
      "cell_type": "code",
      "source": [
        "# your answer here"
      ],
      "metadata": {
        "id": "0bGbZYAxFqyZ"
      },
      "execution_count": 23,
      "outputs": []
    }
  ]
}